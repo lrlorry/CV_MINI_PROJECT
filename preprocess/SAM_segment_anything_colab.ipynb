{
  "cells": [
    {
      "cell_type": "markdown",
      "metadata": {},
      "source": [
        "# Segment Anything with SAM ViT-H"
      ]
    },
    {
      "cell_type": "code",
      "execution_count": null,
      "metadata": {},
      "outputs": [],
      "source": [
        "# Install dependencies\n",
        "!pip install git+https://github.com/facebookresearch/segment-anything.git\n",
        "!pip install opencv-python matplotlib"
      ]
    },
    {
      "cell_type": "code",
      "execution_count": null,
      "metadata": {},
      "outputs": [],
      "source": [
        "# Clone SAM repo\n",
        "!git clone https://github.com/facebookresearch/segment-anything\n",
        "%cd segment-anything"
      ]
    },
    {
      "cell_type": "code",
      "execution_count": null,
      "metadata": {},
      "outputs": [],
      "source": [
        "# Download ViT-H model\n",
        "!wget https://dl.fbaipublicfiles.com/segment_anything/sam_vit_h_4b8939.pth"
      ]
    },
    {
      "cell_type": "code",
      "execution_count": null,
      "metadata": {},
      "outputs": [],
      "source": [
        "from segment_anything import sam_model_registry, SamPredictor\n",
        "import numpy as np\n",
        "import torch\n",
        "import cv2, os\n",
        "from PIL import Image\n",
        "from google.colab import files\n",
        "import matplotlib.pyplot as plt"
      ]
    },
    {
      "cell_type": "code",
      "execution_count": null,
      "metadata": {},
      "outputs": [],
      "source": [
        "# ==== 上传图像 ====\n",
        "uploaded = files.upload()\n",
        "image_path = next(iter(uploaded))\n",
        "image = cv2.imread(image_path)\n",
        "image_rgb = cv2.cvtColor(image, cv2.COLOR_BGR2RGB)"
      ]
    },
    {
      "cell_type": "code",
      "execution_count": null,
      "metadata": {},
      "outputs": [],
      "source": [
        "# ==== 加载模型 ====\n",
        "checkpoint = \"sam_vit_h_4b8939.pth\"\n",
        "model_type = \"vit_h\"\n",
        "device = \"cuda\" if torch.cuda.is_available() else \"cpu\"\n",
        "sam = sam_model_registry[model_type](checkpoint=checkpoint)\n",
        "sam.to(device=device)\n",
        "predictor = SamPredictor(sam)\n",
        "predictor.set_image(image_rgb)"
      ]
    },
    {
      "cell_type": "code",
      "execution_count": null,
      "metadata": {},
      "outputs": [],
      "source": [
        "# ==== 选择点进行分割 ====\n",
        "input_point = np.array([[300, 400]])\n",
        "input_label = np.array([1])\n",
        "masks, _, _ = predictor.predict(\n",
        "    point_coords=input_point,\n",
        "    point_labels=input_label,\n",
        "    multimask_output=False\n",
        ")"
      ]
    },
    {
      "cell_type": "code",
      "execution_count": null,
      "metadata": {},
      "outputs": [],
      "source": [
        "# ==== 保存函数 ====\n",
        "def save_sam_segmentation(image_rgb, mask, output_prefix=\"result\"):\n",
        "    os.makedirs(\"output\", exist_ok=True)\n",
        "    image_bgr = cv2.cvtColor(image_rgb, cv2.COLOR_RGB2BGR)\n",
        "    cv2.imwrite(f\"output/{output_prefix}_original.jpg\", image_bgr)\n",
        "    binary_mask = (mask.astype(np.uint8)) * 255\n",
        "    cv2.imwrite(f\"output/{output_prefix}_mask.png\", binary_mask)\n",
        "    colored_mask = np.zeros_like(image_rgb)\n",
        "    colored_mask[binary_mask == 255] = [255, 0, 0]\n",
        "    blended = cv2.addWeighted(image_rgb, 0.7, colored_mask, 0.3, 0)\n",
        "    cv2.imwrite(f\"output/{output_prefix}_overlay.jpg\", cv2.cvtColor(blended, cv2.COLOR_RGB2BGR))\n",
        "    rgba = np.dstack((image_rgb, binary_mask))\n",
        "    Image.fromarray(rgba).save(f\"output/{output_prefix}_transparent.png\")\n",
        "    print(\"✅ Saved to ./output\")"
      ]
    },
    {
      "cell_type": "code",
      "execution_count": null,
      "metadata": {},
      "outputs": [],
      "source": [
        "# ==== 执行保存 ====\n",
        "save_sam_segmentation(image_rgb, masks[0])"
      ]
    },
    {
      "cell_type": "code",
      "execution_count": null,
      "metadata": {},
      "outputs": [],
      "source": [
        "# ==== 下载结果 ====\n",
        "files.download('output/result_original.jpg')\n",
        "files.download('output/result_mask.png')\n",
        "files.download('output/result_overlay.jpg')\n",
        "files.download('output/result_transparent.png')"
      ]
    }
  ],
  "metadata": {
    "kernelspec": {
      "display_name": "Python 3",
      "language": "python",
      "name": "python3"
    },
    "language_info": {
      "name": "python"
    }
  },
  "nbformat": 4,
  "nbformat_minor": 2
}
